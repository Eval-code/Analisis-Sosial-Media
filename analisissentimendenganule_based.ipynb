{
  "nbformat": 4,
  "nbformat_minor": 0,
  "metadata": {
    "colab": {
      "provenance": [],
      "authorship_tag": "ABX9TyMTApoumfuqZjnBloE4D9cA",
      "include_colab_link": true
    },
    "kernelspec": {
      "name": "python3",
      "display_name": "Python 3"
    },
    "language_info": {
      "name": "python"
    }
  },
  "cells": [
    {
      "cell_type": "markdown",
      "metadata": {
        "id": "view-in-github",
        "colab_type": "text"
      },
      "source": [
        "<a href=\"https://colab.research.google.com/github/Eval-code/Analisis-Sosial-Media/blob/main/analisissentimendenganule_based.ipynb\" target=\"_parent\"><img src=\"https://colab.research.google.com/assets/colab-badge.svg\" alt=\"Open In Colab\"/></a>"
      ]
    },
    {
      "cell_type": "code",
      "source": [
        "positive_words = [\"bagus\", \"luar biasa\", \"puas\", \"keren\", \"suka\"]\n",
        "negative_words = [\"jelek\", \"buruk\", \"kecewa\", \"mengecewakan\", \"lama\", \"kesel\"]\n",
        "\n",
        "komentar = [\n",
        "    \"Produk ini luar biasa, saya puas sekali!\",\n",
        "    \"Sangat mengecewakan, tidak sesuai deskripsi.\",\n",
        "    \"Produk ini diluncurkan pada bulan lalu.\",\n",
        "    \"banyak bacot lu, kesel gua ama ni produk\"\n",
        "]\n",
        "\n",
        "def analisis_sentimen(teks):\n",
        "    teks_lower = teks.lower()\n",
        "    skor = 0\n",
        "\n",
        "    # cek kata positif\n",
        "    for kata in positive_words:\n",
        "        if kata in teks_lower:\n",
        "            skor += 1\n",
        "\n",
        "    # cek kata negatif\n",
        "    for kata in negative_words:\n",
        "        if kata in teks_lower:\n",
        "            skor -= 1\n",
        "\n",
        "    # klasifikasi hasil\n",
        "    if skor > 0:\n",
        "        return \"Positif\"\n",
        "    elif skor < 0:\n",
        "        return \"Negatif\"\n",
        "    else:\n",
        "        return \"Netral\"\n",
        "\n",
        "# uji pada komentar\n",
        "for k in komentar:\n",
        "    print(f\"Komentar : {k}\")\n",
        "    print(f\"⇨ Sentimen : {analisis_sentimen(k)}\")\n",
        "    print(\"-\"*60)\n"
      ],
      "metadata": {
        "colab": {
          "base_uri": "https://localhost:8080/"
        },
        "id": "wm-Hko19uISc",
        "outputId": "957cbd6b-3047-474f-8761-9df13d932863"
      },
      "execution_count": null,
      "outputs": [
        {
          "output_type": "stream",
          "name": "stdout",
          "text": [
            "Komentar : Produk ini luar biasa, saya puas sekali!\n",
            "⇨ Sentimen : Positif\n",
            "------------------------------------------------------------\n",
            "Komentar : Sangat mengecewakan, tidak sesuai deskripsi.\n",
            "⇨ Sentimen : Negatif\n",
            "------------------------------------------------------------\n",
            "Komentar : Produk ini diluncurkan pada bulan lalu.\n",
            "⇨ Sentimen : Netral\n",
            "------------------------------------------------------------\n",
            "Komentar : banyak bacot lu, kesel gua ama ni produk\n",
            "⇨ Sentimen : Negatif\n",
            "------------------------------------------------------------\n"
          ]
        }
      ]
    },
    {
      "cell_type": "markdown",
      "source": [],
      "metadata": {
        "id": "dCqWmA0EuIFm"
      }
    }
  ]
}